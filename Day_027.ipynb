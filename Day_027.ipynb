{
 "cells": [
  {
   "cell_type": "markdown",
   "metadata": {
    "id": "H-z4L8J371GO"
   },
   "source": [
    "## 作業:\n",
    "今天學到不同統計量之間特性，  \n",
    "試著分析男生女生身高資料，  \n",
    "試著回答下面的問題:  \n",
    "Q1:試著用今天所教的內容，如何描述這兩組資料的樣態?    \n",
    "Q2: 請問男生和女生在平均身高上誰比較高?   \n",
    "Q3:請問第二題的答案和日常生活中觀察的一致嗎? 如果不一致，你覺得原因可能為何?    \n",
    "上述問題透過  python 語法進行運算，\n",
    "並將上述答案填寫在 (google 表單)[https://docs.google.com/forms/d/e/1FAIpQLSdDzwpeJl8YLPwZaW8pBZvtuXY9kIbbZLqxcXyzFaoraV5JEA/viewform ]\n",
    "![](作業資料圖檔.PNG)"
   ]
  },
  {
   "cell_type": "code",
   "execution_count": 3,
   "metadata": {
    "id": "yz28_IgkYdBW"
   },
   "outputs": [],
   "source": [
    "# library\n",
    "import matplotlib.pyplot as plt\n",
    "import numpy as np\n",
    "import pandas as pd\n",
    "from scipy import stats\n",
    "import math\n",
    "import statistics\n",
    "import seaborn as sns"
   ]
  },
  {
   "cell_type": "code",
   "execution_count": 4,
   "metadata": {
    "id": "3NtzuWtt71GU",
    "outputId": "be21c4eb-a6c2-4674-aadd-d378bafc0428"
   },
   "outputs": [],
   "source": [
    "## 輸入資料\n",
    "'''\n",
    "你的程式碼\n",
    "'''\n",
    "boys = pd.Series( [164, 176, 169, 169, 165, 175, 159, 151, 144, 160, 183, 165, 156, 170, 164, 173, 165, 163, 177, 171] )\n",
    "girls= pd.Series( [169, 183, 170, 168, 182, 170, 173, 185, 151, 156, 162, 169, 162, 181, 159, 154, 167, 175, 170, 160] )"
   ]
  },
  {
   "cell_type": "code",
   "execution_count": 5,
   "metadata": {
    "id": "uDM9AzrY71GW",
    "outputId": "f4e7ede3-fda9-4858-f122-af7c3b3f3ad4"
   },
   "outputs": [
    {
     "name": "stdout",
     "output_type": "stream",
     "text": [
      "Boys :\n",
      "Mean(平均值) =  165.95\n",
      "Standard Deviation(標準差) =  9.213691185575838\n",
      "Minimum(最小值) =  144.0\n",
      "25th percentile =  162.25\n",
      "50th percentile(中位數) =  165.0\n",
      "75th percentile =  171.5\n",
      "Maximum(最大值) =  183.0\n",
      "Range(全距) =  39.0\n",
      "Variance(變異數) =  84.89210526315789\n",
      "Skewness(偏度) =  -0.47132127317376954\n",
      "Kurtosis(峰度) =  0.19395882957876331\n",
      "\n",
      "Girls :\n",
      "Mean(平均值) =  168.3\n",
      "Standard Deviation(標準差) =  9.766214587465353\n",
      "Minimum(最小值) =  151.0\n",
      "25th percentile =  161.5\n",
      "50th percentile(中位數) =  169.0\n",
      "75th percentile =  173.5\n",
      "Maximum(最大值) =  185.0\n",
      "Range(全距) =  34.0\n",
      "Variance(變異數) =  95.37894736842104\n",
      "Skewness(偏度) =  0.05985321129365068\n",
      "Kurtosis(峰度) =  -0.8203607083948947\n",
      "\n"
     ]
    }
   ],
   "source": [
    "#Q1:試著用今天所教的內容，如何描述這兩組資料的樣態?\n",
    "#暗示:  分別計算男生和女生的統計量\n",
    "'''\n",
    "你的答案\n",
    "'''\n",
    "for sex, data in zip( ['Boys', 'Girls'], [boys, girls] ):\n",
    "    print( sex, ':' )\n",
    "    print( 'Mean(平均值) = ', data.describe()[1] )\n",
    "    print( 'Standard Deviation(標準差) = ', data.describe()[2] )\n",
    "    print( 'Minimum(最小值) = ', data.describe()[3] )\n",
    "    print( '25th percentile = ', data.describe()[4] )\n",
    "    print( '50th percentile(中位數) = ', data.describe()[5] )\n",
    "    print( '75th percentile = ', data.describe()[6] )\n",
    "    print( 'Maximum(最大值) = ', data.describe()[7] )\n",
    "    print( 'Range(全距) = ', data.describe()[7]-data.describe()[3] )\n",
    "    print( 'Variance(變異數) = ', np.var( data, ddof=1 ) )\n",
    "    print( 'Skewness(偏度) = ', stats.skew( data ) )\n",
    "    print( 'Kurtosis(峰度) = ', stats.kurtosis( data ) )\n",
    "    print( '' )  "
   ]
  },
  {
   "cell_type": "code",
   "execution_count": 6,
   "metadata": {},
   "outputs": [
    {
     "data": {
      "image/png": "[encoded data removed]",
      "text/plain": [
       "<Figure size 720x360 with 1 Axes>"
      ]
     },
     "metadata": {},
     "output_type": "display_data"
    }
   ],
   "source": [
    "plt.style.use( 'ggplot' ) \n",
    "plt.figure( figsize=(10,5) )\n",
    "sns.histplot( boys, kde=True, color='blue', label='Boys' )\n",
    "sns.histplot( girls, kde=True, color='green', label='Girls' )\n",
    "plt.title( 'Height' )\n",
    "plt.legend( )\n",
    "plt.show( )"
   ]
  },
  {
   "cell_type": "code",
   "execution_count": 10,
   "metadata": {
    "id": "xH_GNsC271GW",
    "outputId": "f4b4c46a-0d8b-421c-9c70-0ebf2aab0e31"
   },
   "outputs": [
    {
     "name": "stdout",
     "output_type": "stream",
     "text": [
      "165.95\n",
      "168.3\n"
     ]
    }
   ],
   "source": [
    "#Q2: 請問男生和女生在平均身高上誰比較高? \n",
    "'''\n",
    "你的答案\n",
    "'''\n",
    "print(boys.mean())\n",
    "print(girls.mean())\n",
    "#女生"
   ]
  },
  {
   "cell_type": "code",
   "execution_count": 7,
   "metadata": {
    "id": "xAzZU0Dv71GX",
    "outputId": "e2017c09-70fc-41ab-99c0-9d41fe21629d"
   },
   "outputs": [
    {
     "data": {
      "text/plain": [
       "'\\n你的答案\\n'"
      ]
     },
     "execution_count": 7,
     "metadata": {},
     "output_type": "execute_result"
    }
   ],
   "source": [
    "#Q3:請問第二題的答案和日常生活中觀察的一致嗎? 如果不一致，你覺得原因可能為何? \n",
    "'''\n",
    "你的答案\n",
    "'''\n",
    "# Ans: 不一致；可能是因為樣本抽樣上的偏差所導致，另一種可能是樣本數太少，導致抽樣結果不準"
   ]
  },
  {
   "cell_type": "code",
   "execution_count": null,
   "metadata": {},
   "outputs": [],
   "source": []
  }
 ],
 "metadata": {
  "colab": {
   "collapsed_sections": [],
   "name": "作業.ipynb",
   "provenance": []
  },
  "kernelspec": {
   "display_name": "Python 3",
   "language": "python",
   "name": "python3"
  },
  "language_info": {
   "codemirror_mode": {
    "name": "ipython",
    "version": 3
   },
   "file_extension": ".py",
   "mimetype": "text/x-python",
   "name": "python",
   "nbconvert_exporter": "python",
   "pygments_lexer": "ipython3",
   "version": "3.8.8"
  }
 },
 "nbformat": 4,
 "nbformat_minor": 1
}
