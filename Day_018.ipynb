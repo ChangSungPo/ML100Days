{
 "cells": [
  {
   "cell_type": "code",
   "execution_count": 1,
   "id": "d91f1577",
   "metadata": {},
   "outputs": [],
   "source": [
    "# Q1 在速度較慢的時候，可以先從哪邊開始檢查？\n",
    "\n",
    "# 檢查讀取的資料型態\n",
    "# 檢查函式是內建還是自刻\n",
    "# 檢查資料型別\n",
    "\n",
    "# Q2 資料過大時應採取什麼方式讓記憶體占用量下降？\n",
    "\n",
    "# 將資料轉成 佔儲存空間較小的資料型別"
   ]
  },
  {
   "cell_type": "code",
   "execution_count": null,
   "id": "9297b53c",
   "metadata": {},
   "outputs": [],
   "source": []
  }
 ],
 "metadata": {
  "kernelspec": {
   "display_name": "Python 3",
   "language": "python",
   "name": "python3"
  },
  "language_info": {
   "codemirror_mode": {
    "name": "ipython",
    "version": 3
   },
   "file_extension": ".py",
   "mimetype": "text/x-python",
   "name": "python",
   "nbconvert_exporter": "python",
   "pygments_lexer": "ipython3",
   "version": "3.8.8"
  }
 },
 "nbformat": 4,
 "nbformat_minor": 5
}
